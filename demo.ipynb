{
 "cells": [
  {
   "cell_type": "code",
   "execution_count": 36,
   "metadata": {},
   "outputs": [],
   "source": [
    "import random\n",
    "import requests\n"
   ]
  },
  {
   "cell_type": "code",
   "execution_count": 37,
   "metadata": {},
   "outputs": [],
   "source": [
    "# Class imported from notebook 7 \n",
    "\n",
    "# -------------- #\n",
    "# List of words\n",
    "url = 'https://www.ime.usp.br/~pf/dicios/br-sem-acentos.txt'\n",
    "r = requests.get(url, allow_redirects=True)\n",
    "content = str(r.content.decode()).split('\\n')\n",
    "# -------------- #\n",
    "\n",
    "class Hangman:\n",
    "    def __init__(self):\n",
    "        \n",
    "        if r.status_code==200:\n",
    "            self.content = content\n",
    "        else:\n",
    "            print(\"Erro: \", r.status_code)\n",
    "    \n",
    "    # ----------------------------- #\n",
    "\n",
    "    def new_game(self, lifes=5):\n",
    "        self.running = True\n",
    "        self.lifes = lifes\n",
    "        self.word = random.choice(self.content)\n",
    "        return len(self.word)\n",
    "    \n",
    "    # ----------------------------- #\n",
    "\n",
    "    def guess_letter(self, letter):\n",
    "        if self.lifes > 0:\n",
    "            if letter in self.word:\n",
    "                return [idx for idx in range(len(self.word)) if self.word[idx]==letter]\n",
    "            else:\n",
    "                self.lifes -= 1\n",
    "                if self.lifes == 0:\n",
    "                    self.running = False\n",
    "                    return False\n",
    "                else:\n",
    "                    return []\n",
    "    \n",
    "    # ----------------------------- #\n",
    "\n",
    "    def guess_word(self, word):\n",
    "        if self.lifes > 0:\n",
    "            if self.word == word:\n",
    "                self.running = False\n",
    "                return True\n",
    "            else:\n",
    "                self.lifes = 0\n",
    "                self.running = False\n",
    "                return False\n",
    "            \n",
    "    # ----------------------------- #\n",
    "\n",
    "    def check_word(self, word):\n",
    "        if self.word == word:\n",
    "            return True\n",
    "        return False"
   ]
  },
  {
   "cell_type": "code",
   "execution_count": 38,
   "metadata": {},
   "outputs": [
    {
     "name": "stdout",
     "output_type": "stream",
     "text": [
      "Letters:9\n"
     ]
    },
    {
     "data": {
      "text/plain": [
       "('Lifes: ', 0)"
      ]
     },
     "execution_count": 38,
     "metadata": {},
     "output_type": "execute_result"
    }
   ],
   "source": [
    "# Showcase\n",
    "\n",
    "game = Hangman()\n",
    "letters = game.new_game()\n",
    "print(\"Letters:\" + str(letters))\n",
    "\n",
    "game.guess_letter('2')\n",
    "game.guess_letter('q')\n",
    "game.guess_letter('a')\n",
    "game.guess_letter('y')\n",
    "game.guess_letter('z')\n",
    "game.guess_letter('x')\n",
    "\n",
    "'Lifes: ', game.lifes\n"
   ]
  },
  {
   "cell_type": "code",
   "execution_count": 39,
   "metadata": {},
   "outputs": [],
   "source": [
    "# First algorythm: by absolute letter probability, wo word guesses\n",
    "\n",
    "alphabet = 'abcdefghijklmnopqrstuvwxyz'\n",
    "probabilities = {letter:0 for letter in alphabet}\n",
    "\n",
    "for word in content:\n",
    "    for letter in word:\n",
    "        if letter in alphabet:\n",
    "            probabilities[letter] += 1\n",
    "\n",
    "# Orders the probabilities\n",
    "probabilities = dict(sorted(probabilities.items(), key=lambda item: item[1], reverse=True))\n"
   ]
  },
  {
   "cell_type": "code",
   "execution_count": 65,
   "metadata": {},
   "outputs": [
    {
     "name": "stdout",
     "output_type": "stream",
     "text": [
      "This algorythm loses 85.2%. of the time\n"
     ]
    }
   ],
   "source": [
    "# 100 runs, checks the win probability\n",
    "\n",
    "losses = 0\n",
    "keysProbs = list(probabilities.keys())\n",
    "for i in range(1000):\n",
    "\n",
    "    game = Hangman()\n",
    "    letters = game.new_game()  \n",
    "\n",
    "    guessList = []\n",
    "    for i in range(letters):\n",
    "        guessList.append('_')\n",
    "\n",
    "    curLetter = 0 \n",
    "    while game.running:\n",
    "\n",
    "        letterSpots = game.guess_letter(keysProbs[curLetter])\n",
    "        if type(letterSpots) != bool:\n",
    "            for numbs in letterSpots:\n",
    "                guessList[numbs] = keysProbs[curLetter]\n",
    "            curLetter+=1\n",
    "\n",
    "        guessWord = ''.join(guessList)\n",
    "        gotWord = game.check_word(guessWord)\n",
    "        if gotWord:\n",
    "            break\n",
    "\n",
    "    if not gotWord:\n",
    "        losses+=1\n",
    "    # print(guessWord) # uncomment to see what the games ended on!\n",
    "\n",
    "print('This algorythm loses '+ str(losses/10) +'%. of the time')"
   ]
  }
 ],
 "metadata": {
  "kernelspec": {
   "display_name": "Python 3",
   "language": "python",
   "name": "python3"
  },
  "language_info": {
   "codemirror_mode": {
    "name": "ipython",
    "version": 3
   },
   "file_extension": ".py",
   "mimetype": "text/x-python",
   "name": "python",
   "nbconvert_exporter": "python",
   "pygments_lexer": "ipython3",
   "version": "3.10.4"
  },
  "orig_nbformat": 4
 },
 "nbformat": 4,
 "nbformat_minor": 2
}
