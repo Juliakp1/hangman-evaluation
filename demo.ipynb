{
 "cells": [
  {
   "cell_type": "code",
   "execution_count": 3,
   "metadata": {},
   "outputs": [],
   "source": [
    "import random, requests\n",
    "from re import match # allows regex in list\n"
   ]
  },
  {
   "attachments": {},
   "cell_type": "markdown",
   "metadata": {},
   "source": [
    "# Avaliador de jogadores de Forca\n",
    "\n",
    "Começamos esse projeto com uma clase que simula um jogo de forca (com a funcao de advinhar a letra e/ou a palavra):\n"
   ]
  },
  {
   "cell_type": "code",
   "execution_count": 4,
   "metadata": {},
   "outputs": [
    {
     "data": {
      "text/plain": [
       "244597"
      ]
     },
     "execution_count": 4,
     "metadata": {},
     "output_type": "execute_result"
    }
   ],
   "source": [
    "# -------------- #\n",
    "# Word pool\n",
    "url = 'https://www.ime.usp.br/~pf/dicios/br-sem-acentos.txt'\n",
    "r = requests.get(url, allow_redirects=True)\n",
    "content = str(r.content.decode()).split('\\n')\n",
    "# -------------- #\n",
    "\n",
    "# We need to remove words like 'Adhemar', because its not lowercase\n",
    "b=0\n",
    "for i in range(len(content)):\n",
    "    if (content[i-b] != content[i-b].lower()):\n",
    "        content.remove(content[i-b])\n",
    "        b+=1\n",
    "    \n",
    "len(content)"
   ]
  },
  {
   "cell_type": "code",
   "execution_count": 5,
   "metadata": {},
   "outputs": [],
   "source": [
    "# Class imported from notebook 7 \n",
    "\n",
    "class Hangman:\n",
    "    def __init__(self):\n",
    "        \n",
    "        if r.status_code==200:\n",
    "            self.content = content\n",
    "        else:\n",
    "            print(\"Erro: \", r.status_code)\n",
    "    \n",
    "    # ----------------------------- #\n",
    "\n",
    "    def new_game(self, lifes=5):\n",
    "        self.running = True\n",
    "        self.lifes = lifes\n",
    "        self.word = random.choice(self.content)\n",
    "        return len(self.word)\n",
    "    \n",
    "    # ----------------------------- #\n",
    "\n",
    "    def guess_letter(self, letter):\n",
    "        if self.lifes > 0:\n",
    "            if letter in self.word:\n",
    "                return [idx for idx in range(len(self.word)) if self.word[idx]==letter]\n",
    "            else:\n",
    "                self.lifes -= 1\n",
    "                if self.lifes == 0:\n",
    "                    self.running = False\n",
    "                    return False\n",
    "                else:\n",
    "                    return []\n",
    "    \n",
    "    # ----------------------------- #\n",
    "\n",
    "    def guess_word(self, word):\n",
    "        if self.lifes > 0:\n",
    "            if self.word == word:\n",
    "                self.running = False\n",
    "                return True\n",
    "            else:\n",
    "                self.lifes = 0\n",
    "                self.running = False\n",
    "                return False\n",
    "            \n",
    "    # ----------------------------- #\n",
    "\n",
    "    def check_word(self, word):\n",
    "        if self.word == word:\n",
    "            return True\n",
    "        return False"
   ]
  },
  {
   "attachments": {},
   "cell_type": "markdown",
   "metadata": {},
   "source": [
    "Para demonstrar o seu funcionamento antes de entrar nos algoritimos:"
   ]
  },
  {
   "cell_type": "code",
   "execution_count": 6,
   "metadata": {},
   "outputs": [
    {
     "name": "stdout",
     "output_type": "stream",
     "text": [
      "Letters:7\n",
      "[]\n",
      "[]\n",
      "[0, 3]\n",
      "[]\n",
      "[]\n",
      "False\n"
     ]
    },
    {
     "data": {
      "text/plain": [
       "('Lifes: ', 0)"
      ]
     },
     "execution_count": 6,
     "metadata": {},
     "output_type": "execute_result"
    }
   ],
   "source": [
    "# Showcase\n",
    "\n",
    "game = Hangman()\n",
    "letters = game.new_game()\n",
    "print(\"Letters:\" + str(letters))\n",
    "\n",
    "print(game.guess_letter('2'))\n",
    "print(game.guess_letter('q'))\n",
    "print(game.guess_letter('a'))\n",
    "print(game.guess_letter('y'))\n",
    "print(game.guess_letter('z'))\n",
    "print(game.guess_letter('x'))\n",
    "\n",
    "'Lifes: ', game.lifes\n"
   ]
  },
  {
   "attachments": {},
   "cell_type": "markdown",
   "metadata": {},
   "source": [
    "---------\n",
    "## Algoritimo 1: Letra mais provável\n",
    "\n",
    "O primeiro algoritimo feito simplismente ve qual a probabilidade de cada letra aparecer, considerando todas as palavras ao mesmo tempo e ignorando as suas posições.\n",
    "Ele não leva em consideração o estado atual do tabuleiro, e sempre chuta letras na mesma ordem. "
   ]
  },
  {
   "cell_type": "code",
   "execution_count": 7,
   "metadata": {},
   "outputs": [],
   "source": [
    "# First algorithm: by absolute letter probability, wo word guesses\n",
    "\n",
    "alphabet = 'abcdefghijklmnopqrstuvwxyz'\n",
    "probabilities = {letter:0 for letter in alphabet}\n",
    "\n",
    "# adds 1 for every time that letter appears\n",
    "for word in content:\n",
    "    for letter in word:\n",
    "        probabilities[letter.lower()] += 1\n",
    "\n",
    "# Orders the probabilities\n",
    "probabilities = dict(sorted(probabilities.items(), key=lambda item: item[1], reverse=True))\n"
   ]
  },
  {
   "attachments": {},
   "cell_type": "markdown",
   "metadata": {},
   "source": [
    "Para testar sua eficácia, simulamos 1000 jogos com ele e vemos a chance de ele ganhar um jogo:"
   ]
  },
  {
   "cell_type": "code",
   "execution_count": 8,
   "metadata": {},
   "outputs": [
    {
     "name": "stdout",
     "output_type": "stream",
     "text": [
      "This algorithm wins 15.1%. of the time\n"
     ]
    }
   ],
   "source": [
    "# 1000 runs, checks the win probability\n",
    "\n",
    "wins = 0\n",
    "keysProbs = list(probabilities.keys())\n",
    "for i in range(1000):\n",
    "\n",
    "    # starts game\n",
    "    game = Hangman()\n",
    "    letters = game.new_game()  \n",
    "\n",
    "    # makes a list to save the guesses\n",
    "    guessList = []\n",
    "    for i in range(letters):\n",
    "        guessList.append('.')\n",
    "\n",
    "    curLetter = 0 \n",
    "    while game.running:\n",
    "\n",
    "        # guesses a letter and saves it \n",
    "        letterSpots = game.guess_letter(keysProbs[curLetter])\n",
    "        if type(letterSpots) != bool:\n",
    "            for numbs in letterSpots:\n",
    "                guessList[numbs] = keysProbs[curLetter]\n",
    "            curLetter+=1\n",
    "\n",
    "        # checks if the word is already guessed\n",
    "        guessWord = ''.join(guessList)\n",
    "        gotWord = game.check_word(guessWord)\n",
    "        if gotWord:\n",
    "            break\n",
    "\n",
    "    if gotWord:\n",
    "        wins+=1\n",
    "    # print(guessWord) # uncomment to see what the games ended on!\n",
    "\n",
    "print('This algorithm wins '+ str(wins/10) +'%. of the time')"
   ]
  },
  {
   "attachments": {},
   "cell_type": "markdown",
   "metadata": {},
   "source": [
    "Como podemos ver, se desconsiderar-mos o estado atual do jogo e sempre chutar em uma mesma ordem, não conseguimos ir muito longe. Ele acaba sendo melhor do que um chute completamente aleatorio, mas não por uma margem muito grande."
   ]
  },
  {
   "attachments": {},
   "cell_type": "markdown",
   "metadata": {},
   "source": [
    "---------\n",
    "## Algoritimo 2: Probabilidade de letra por espaço restante\n",
    "Esse algoritimo parte do conceito da probabilidade de letra por rodada, mas leva em consideração as letras que estal faltando, e seus lugares. Ele encontra a probabilidade de uma letra ser encontrada em um espaço vazio levando em consideração a lista filtrada."
   ]
  },
  {
   "cell_type": "code",
   "execution_count": 9,
   "metadata": {},
   "outputs": [],
   "source": [
    "def letter_by_empty_space(guessList, currentAlphabet):\n",
    "\n",
    "    # better efficiency (only not guessed letters)\n",
    "    cutAlphabet = [i for i in currentAlphabet if i not in guessList]  \n",
    "    probabilities = [{letter:0 for letter in cutAlphabet} for i in range(len(guessList))]\n",
    "\n",
    "    # gets all the words that fit this situation\n",
    "    filterRegex = ''.join(guessList)\n",
    "    possibleWords = list(filter(lambda v: match(filterRegex, v), content))\n",
    "\n",
    "    # gets words that fit into the current alphabet, and lenght\n",
    "    filterRegex = '^['+currentAlphabet+']{'+str(len(guessList))+'}$'\n",
    "    avaliableWords = list(filter(lambda v: match(filterRegex, v), possibleWords))\n",
    "\n",
    "    # makes a list of probabilities for every spot\n",
    "    for word in avaliableWords:\n",
    "        for i in range(len(word)):\n",
    "            if (word[i] in currentAlphabet) and (word[i] not in guessList):\n",
    "                probabilities[i][word[i].lower()] += 1\n",
    "\n",
    "    # just so hit doesnt always guess the first empty\n",
    "    listIndexes = [i for i in range(len(guessList))]\n",
    "    random.shuffle(listIndexes)\n",
    "\n",
    "    # gets the max of an empty spot\n",
    "    for i in listIndexes:\n",
    "        if guessList[i] == '.':\n",
    "            return max(probabilities[i], key=probabilities[i].get)"
   ]
  },
  {
   "attachments": {},
   "cell_type": "markdown",
   "metadata": {},
   "source": [
    "Para testar sua eficácia, simulamos 300 jogos com ele e vemos a chance de ele ganhar um jogo:"
   ]
  },
  {
   "cell_type": "code",
   "execution_count": 35,
   "metadata": {},
   "outputs": [
    {
     "name": "stdout",
     "output_type": "stream",
     "text": [
      "This algorithm wins 89.0%. of the time\n",
      "Trouble words: empunham, emulem, manjariamos, guinada, drenaste, sigilo, festas, suscito, pelemos, decepo, manejaras, assomava, jubilassemos, bufai, fuxicarem, guiaste, filem, folgam, expandem, nevemos, picho, zanzassem, xelim, jorres, jazo, zunirmos, julguei, maximizavam, burles, soou, permuto, digitam, fazes\n"
     ]
    }
   ],
   "source": [
    "# 300 runs, checks the win probability\n",
    "\n",
    "wins = 0\n",
    "troubleWords = []\n",
    "for i in range(300):\n",
    "\n",
    "    # starts game\n",
    "    game = Hangman()\n",
    "    letters = game.new_game()  \n",
    "\n",
    "    # makes a list to save the guesses\n",
    "    guessList = []\n",
    "    for i in range(letters):\n",
    "        guessList.append('.')\n",
    "\n",
    "    nextGuess = 'a'\n",
    "    currentAlphabet = 'abcdefghijklmnopqrstuvwxyz'\n",
    "    while game.running:\n",
    "\n",
    "        # guesses a letter and saves it \n",
    "        letterSpots = game.guess_letter(nextGuess)\n",
    "        \n",
    "        # saves the guessed (and spots) letter to the list\n",
    "        if type(letterSpots) != bool:\n",
    "            for numbs in letterSpots:\n",
    "                guessList[numbs] = nextGuess\n",
    "\n",
    "        # removes guessed letter from alphabet if its wrong\n",
    "        if letterSpots == []:\n",
    "            currentAlphabet = currentAlphabet.replace(nextGuess,'')\n",
    "\n",
    "        # checks if the word is already guessed\n",
    "        guessWord = ''.join(guessList)\n",
    "        gotWord = game.check_word(guessWord)\n",
    "        if gotWord:\n",
    "            break\n",
    "\n",
    "        # gets the next guess\n",
    "        nextGuess = letter_by_empty_space(guessList, currentAlphabet)\n",
    "\n",
    "    if gotWord:\n",
    "        wins+=1\n",
    "    else:\n",
    "        troubleWords.append(game.word)\n",
    "    # print(guessWord) # uncomment to see what the games ended on!\n",
    "\n",
    "print('This algorithm wins '+ str(wins/3) +'%. of the time')\n",
    "print('Trouble words: ' + ', '.join(troubleWords))"
   ]
  },
  {
   "attachments": {},
   "cell_type": "markdown",
   "metadata": {},
   "source": [
    "Esse algoritmo é uma grande melhora comparada ao primeiro algoritimo, mas infelizmente não considera a palavra inteira, e simplesmente chuta em relação a uma posição. Ele falharia com palavras como `soou`, que indica que ele não considera as suas opções muito otimamente. "
   ]
  },
  {
   "attachments": {},
   "cell_type": "markdown",
   "metadata": {},
   "source": [
    "---------\n",
    "## Algoritimo 3: Probabilidade de letra por rodada\n",
    "A cada rodada, esse algoritimo verifica todas as palavras possíveis partindo do estado atual, utilizando regex. Ele utiliza a palavra atual (chamada guessList), com letras nos locais corretos e '.' em letras que ele ainda não sabe, para criar um filtro na lista de todas as palavras possíveis. Ele então filtra novamente essa lista para remover todos as palavras que não tem as letras que o algoritimo sabe que não esta na palavra.\n",
    "Ele repete esse processo para todos os seus chutes"
   ]
  },
  {
   "cell_type": "code",
   "execution_count": 10,
   "metadata": {},
   "outputs": [],
   "source": [
    "# generates a new guess based on the board's state\n",
    "def get_new_guess(guessList, currentAlphabet):\n",
    "\n",
    "    probabilities = {letter:0 for letter in currentAlphabet}\n",
    "\n",
    "    # gets all the words that fit this situation\n",
    "    filterRegex = ''.join(guessList)\n",
    "    possibleWords = list(filter(lambda v: match(filterRegex, v), content))\n",
    "\n",
    "    # gets words that fit into the current alphabet, and lenght\n",
    "    filterRegex = '^['+currentAlphabet+']{'+str(len(guessList))+'}$'\n",
    "    avaliableWords = list(filter(lambda v: match(filterRegex, v), possibleWords))\n",
    "\n",
    "    # adds 1 for every time that letter appears\n",
    "    for word in avaliableWords:\n",
    "        letterAdded = []\n",
    "        for letter in word:\n",
    "            if (letter in currentAlphabet) and (letter not in guessList) and (letter not in letterAdded):\n",
    "                probabilities[letter.lower()] += 1\n",
    "                letterAdded.append(letter)\n",
    "\n",
    "    # gets the key of the hight value in dict\n",
    "    nextGuess = max(probabilities, key=probabilities.get)\n",
    "    return nextGuess"
   ]
  },
  {
   "attachments": {},
   "cell_type": "markdown",
   "metadata": {},
   "source": [
    "Para testar sua eficácia, simulamos 300 jogos com ele e vemos a chance de ele ganhar um jogo:"
   ]
  },
  {
   "cell_type": "code",
   "execution_count": 11,
   "metadata": {},
   "outputs": [
    {
     "ename": "KeyboardInterrupt",
     "evalue": "",
     "output_type": "error",
     "traceback": [
      "\u001b[1;31m---------------------------------------------------------------------------\u001b[0m",
      "\u001b[1;31mKeyboardInterrupt\u001b[0m                         Traceback (most recent call last)",
      "\u001b[1;32mc:\\Users\\julia\\OneDrive\\Documentos\\GitHub\\hangman-evaluation\\demo.ipynb Cell 19\u001b[0m in \u001b[0;36m3\n\u001b[0;32m     <a href='vscode-notebook-cell:/c%3A/Users/julia/OneDrive/Documentos/GitHub/hangman-evaluation/demo.ipynb#X20sZmlsZQ%3D%3D?line=35'>36</a>\u001b[0m         \u001b[39mbreak\u001b[39;00m\n\u001b[0;32m     <a href='vscode-notebook-cell:/c%3A/Users/julia/OneDrive/Documentos/GitHub/hangman-evaluation/demo.ipynb#X20sZmlsZQ%3D%3D?line=37'>38</a>\u001b[0m     \u001b[39m# gets the next guess\u001b[39;00m\n\u001b[1;32m---> <a href='vscode-notebook-cell:/c%3A/Users/julia/OneDrive/Documentos/GitHub/hangman-evaluation/demo.ipynb#X20sZmlsZQ%3D%3D?line=38'>39</a>\u001b[0m     nextGuess \u001b[39m=\u001b[39m get_new_guess(guessList, currentAlphabet)\n\u001b[0;32m     <a href='vscode-notebook-cell:/c%3A/Users/julia/OneDrive/Documentos/GitHub/hangman-evaluation/demo.ipynb#X20sZmlsZQ%3D%3D?line=40'>41</a>\u001b[0m \u001b[39mif\u001b[39;00m gotWord:\n\u001b[0;32m     <a href='vscode-notebook-cell:/c%3A/Users/julia/OneDrive/Documentos/GitHub/hangman-evaluation/demo.ipynb#X20sZmlsZQ%3D%3D?line=41'>42</a>\u001b[0m     wins\u001b[39m+\u001b[39m\u001b[39m=\u001b[39m\u001b[39m1\u001b[39m\n",
      "\u001b[1;32mc:\\Users\\julia\\OneDrive\\Documentos\\GitHub\\hangman-evaluation\\demo.ipynb Cell 19\u001b[0m in \u001b[0;36m8\n\u001b[0;32m      <a href='vscode-notebook-cell:/c%3A/Users/julia/OneDrive/Documentos/GitHub/hangman-evaluation/demo.ipynb#X20sZmlsZQ%3D%3D?line=5'>6</a>\u001b[0m \u001b[39m# gets all the words that fit this situation\u001b[39;00m\n\u001b[0;32m      <a href='vscode-notebook-cell:/c%3A/Users/julia/OneDrive/Documentos/GitHub/hangman-evaluation/demo.ipynb#X20sZmlsZQ%3D%3D?line=6'>7</a>\u001b[0m filterRegex \u001b[39m=\u001b[39m \u001b[39m'\u001b[39m\u001b[39m'\u001b[39m\u001b[39m.\u001b[39mjoin(guessList)\n\u001b[1;32m----> <a href='vscode-notebook-cell:/c%3A/Users/julia/OneDrive/Documentos/GitHub/hangman-evaluation/demo.ipynb#X20sZmlsZQ%3D%3D?line=7'>8</a>\u001b[0m possibleWords \u001b[39m=\u001b[39m \u001b[39mlist\u001b[39;49m(\u001b[39mfilter\u001b[39;49m(\u001b[39mlambda\u001b[39;49;00m v: match(filterRegex, v), content))\n\u001b[0;32m     <a href='vscode-notebook-cell:/c%3A/Users/julia/OneDrive/Documentos/GitHub/hangman-evaluation/demo.ipynb#X20sZmlsZQ%3D%3D?line=9'>10</a>\u001b[0m \u001b[39m# gets words that fit into the current alphabet, and lenght\u001b[39;00m\n\u001b[0;32m     <a href='vscode-notebook-cell:/c%3A/Users/julia/OneDrive/Documentos/GitHub/hangman-evaluation/demo.ipynb#X20sZmlsZQ%3D%3D?line=10'>11</a>\u001b[0m filterRegex \u001b[39m=\u001b[39m \u001b[39m'\u001b[39m\u001b[39m^[\u001b[39m\u001b[39m'\u001b[39m\u001b[39m+\u001b[39mcurrentAlphabet\u001b[39m+\u001b[39m\u001b[39m'\u001b[39m\u001b[39m]\u001b[39m\u001b[39m{\u001b[39m\u001b[39m'\u001b[39m\u001b[39m+\u001b[39m\u001b[39mstr\u001b[39m(\u001b[39mlen\u001b[39m(guessList))\u001b[39m+\u001b[39m\u001b[39m'\u001b[39m\u001b[39m}$\u001b[39m\u001b[39m'\u001b[39m\n",
      "\u001b[1;32mc:\\Users\\julia\\OneDrive\\Documentos\\GitHub\\hangman-evaluation\\demo.ipynb Cell 19\u001b[0m in \u001b[0;36m8\n\u001b[0;32m      <a href='vscode-notebook-cell:/c%3A/Users/julia/OneDrive/Documentos/GitHub/hangman-evaluation/demo.ipynb#X20sZmlsZQ%3D%3D?line=5'>6</a>\u001b[0m \u001b[39m# gets all the words that fit this situation\u001b[39;00m\n\u001b[0;32m      <a href='vscode-notebook-cell:/c%3A/Users/julia/OneDrive/Documentos/GitHub/hangman-evaluation/demo.ipynb#X20sZmlsZQ%3D%3D?line=6'>7</a>\u001b[0m filterRegex \u001b[39m=\u001b[39m \u001b[39m'\u001b[39m\u001b[39m'\u001b[39m\u001b[39m.\u001b[39mjoin(guessList)\n\u001b[1;32m----> <a href='vscode-notebook-cell:/c%3A/Users/julia/OneDrive/Documentos/GitHub/hangman-evaluation/demo.ipynb#X20sZmlsZQ%3D%3D?line=7'>8</a>\u001b[0m possibleWords \u001b[39m=\u001b[39m \u001b[39mlist\u001b[39m(\u001b[39mfilter\u001b[39m(\u001b[39mlambda\u001b[39;00m v: match(filterRegex, v), content))\n\u001b[0;32m     <a href='vscode-notebook-cell:/c%3A/Users/julia/OneDrive/Documentos/GitHub/hangman-evaluation/demo.ipynb#X20sZmlsZQ%3D%3D?line=9'>10</a>\u001b[0m \u001b[39m# gets words that fit into the current alphabet, and lenght\u001b[39;00m\n\u001b[0;32m     <a href='vscode-notebook-cell:/c%3A/Users/julia/OneDrive/Documentos/GitHub/hangman-evaluation/demo.ipynb#X20sZmlsZQ%3D%3D?line=10'>11</a>\u001b[0m filterRegex \u001b[39m=\u001b[39m \u001b[39m'\u001b[39m\u001b[39m^[\u001b[39m\u001b[39m'\u001b[39m\u001b[39m+\u001b[39mcurrentAlphabet\u001b[39m+\u001b[39m\u001b[39m'\u001b[39m\u001b[39m]\u001b[39m\u001b[39m{\u001b[39m\u001b[39m'\u001b[39m\u001b[39m+\u001b[39m\u001b[39mstr\u001b[39m(\u001b[39mlen\u001b[39m(guessList))\u001b[39m+\u001b[39m\u001b[39m'\u001b[39m\u001b[39m}$\u001b[39m\u001b[39m'\u001b[39m\n",
      "File \u001b[1;32mc:\\Users\\julia\\AppData\\Local\\Programs\\Python\\Python310\\lib\\re.py:190\u001b[0m, in \u001b[0;36mmatch\u001b[1;34m(pattern, string, flags)\u001b[0m\n\u001b[0;32m    187\u001b[0m \u001b[39mdef\u001b[39;00m \u001b[39mmatch\u001b[39m(pattern, string, flags\u001b[39m=\u001b[39m\u001b[39m0\u001b[39m):\n\u001b[0;32m    188\u001b[0m     \u001b[39m\"\"\"Try to apply the pattern at the start of the string, returning\u001b[39;00m\n\u001b[0;32m    189\u001b[0m \u001b[39m    a Match object, or None if no match was found.\"\"\"\u001b[39;00m\n\u001b[1;32m--> 190\u001b[0m     \u001b[39mreturn\u001b[39;00m _compile(pattern, flags)\u001b[39m.\u001b[39mmatch(string)\n",
      "File \u001b[1;32mc:\\Users\\julia\\AppData\\Local\\Programs\\Python\\Python310\\lib\\re.py:288\u001b[0m, in \u001b[0;36m_compile\u001b[1;34m(pattern, flags)\u001b[0m\n\u001b[0;32m    285\u001b[0m _cache \u001b[39m=\u001b[39m {}  \u001b[39m# ordered!\u001b[39;00m\n\u001b[0;32m    287\u001b[0m _MAXCACHE \u001b[39m=\u001b[39m \u001b[39m512\u001b[39m\n\u001b[1;32m--> 288\u001b[0m \u001b[39mdef\u001b[39;00m \u001b[39m_compile\u001b[39m(pattern, flags):\n\u001b[0;32m    289\u001b[0m     \u001b[39m# internal: compile pattern\u001b[39;00m\n\u001b[0;32m    290\u001b[0m     \u001b[39mif\u001b[39;00m \u001b[39misinstance\u001b[39m(flags, RegexFlag):\n\u001b[0;32m    291\u001b[0m         flags \u001b[39m=\u001b[39m flags\u001b[39m.\u001b[39mvalue\n",
      "\u001b[1;31mKeyboardInterrupt\u001b[0m: "
     ]
    }
   ],
   "source": [
    "# 300 runs, checks the win probability\n",
    "\n",
    "wins = 0\n",
    "troubleWords = []\n",
    "for i in range(300):\n",
    "\n",
    "    # starts game\n",
    "    game = Hangman()\n",
    "    letters = game.new_game()  \n",
    "\n",
    "    # makes a list to save the guesses\n",
    "    guessList = []\n",
    "    for i in range(letters):\n",
    "        guessList.append('.')\n",
    "\n",
    "    nextGuess = 'a'\n",
    "    currentAlphabet = 'abcdefghijklmnopqrstuvwxyz'\n",
    "    while game.running:\n",
    "\n",
    "        # guesses a letter and saves it \n",
    "        letterSpots = game.guess_letter(nextGuess)\n",
    "        \n",
    "        # saves the guessed (and spots) letter to the list\n",
    "        if type(letterSpots) != bool:\n",
    "            for numbs in letterSpots:\n",
    "                guessList[numbs] = nextGuess\n",
    "\n",
    "        # removes guessed letter from alphabet if its wrong\n",
    "        if letterSpots == []:\n",
    "            currentAlphabet = currentAlphabet.replace(nextGuess,'')\n",
    "\n",
    "        # checks if the word is already guessed\n",
    "        guessWord = ''.join(guessList)\n",
    "        gotWord = game.check_word(guessWord)\n",
    "        if gotWord:\n",
    "            break\n",
    "\n",
    "        # gets the next guess\n",
    "        nextGuess = get_new_guess(guessList, currentAlphabet)\n",
    "\n",
    "    if gotWord:\n",
    "        wins+=1\n",
    "    else:\n",
    "        troubleWords.append(game.word)\n",
    "    # print(guessWord) # uncomment to see what the games ended on!\n",
    "\n",
    "print('This algorithm wins '+ str(wins/3) +'%. of the time')\n",
    "print('Trouble words: ' + ', '.join(troubleWords))"
   ]
  },
  {
   "attachments": {},
   "cell_type": "markdown",
   "metadata": {},
   "source": [
    "Esse algorítmo, principalmente quando comparado com os anteriores, tem uma performance muito boa, com probabilidade de vitória perto de 95%. Ele tambem tem melhora no tempo de processamento em relação a ambos.\n",
    "\n",
    "Comparado ao algoritimo anterior, que somente analiza uma posição por vez, esse algoritimo analiza todas as letras possiveis restantes na palavra, aumentando sua chance de acerto. Ele tambem so considera uma vez a letra na palavra, então a palavra `arara` só contaria como 1 `a` no total, pois um chute ja revelaria todas."
   ]
  },
  {
   "attachments": {},
   "cell_type": "markdown",
   "metadata": {},
   "source": [
    "--------------------\n",
    "\n",
    "## Media dos resultados dos algoritmos:\n",
    "- Letra mais provável: 15%\n",
    "- Probabilidade de letra por espaço restante: 90%\n",
    "- Probabilidade de letra por rodada: 95%"
   ]
  }
 ],
 "metadata": {
  "kernelspec": {
   "display_name": "Python 3",
   "language": "python",
   "name": "python3"
  },
  "language_info": {
   "codemirror_mode": {
    "name": "ipython",
    "version": 3
   },
   "file_extension": ".py",
   "mimetype": "text/x-python",
   "name": "python",
   "nbconvert_exporter": "python",
   "pygments_lexer": "ipython3",
   "version": "3.10.4"
  },
  "orig_nbformat": 4
 },
 "nbformat": 4,
 "nbformat_minor": 2
}
