{
 "cells": [
  {
   "cell_type": "code",
   "execution_count": 69,
   "metadata": {},
   "outputs": [],
   "source": [
    "import random\n",
    "import requests\n"
   ]
  },
  {
   "attachments": {},
   "cell_type": "markdown",
   "metadata": {},
   "source": [
    "# Avaliador de jogadores de Forca\n",
    "\n",
    "Começamos esse projeto com uma clase que simula um jogo de forca (com a funcao de advinhar a letra e/ou a palavra):\n"
   ]
  },
  {
   "cell_type": "code",
   "execution_count": 70,
   "metadata": {},
   "outputs": [],
   "source": [
    "# Class imported from notebook 7 \n",
    "\n",
    "# -------------- #\n",
    "# List of words\n",
    "url = 'https://www.ime.usp.br/~pf/dicios/br-sem-acentos.txt'\n",
    "r = requests.get(url, allow_redirects=True)\n",
    "content = str(r.content.decode()).split('\\n')\n",
    "# -------------- #\n",
    "\n",
    "class Hangman:\n",
    "    def __init__(self):\n",
    "        \n",
    "        if r.status_code==200:\n",
    "            self.content = content\n",
    "        else:\n",
    "            print(\"Erro: \", r.status_code)\n",
    "    \n",
    "    # ----------------------------- #\n",
    "\n",
    "    def new_game(self, lifes=5):\n",
    "        self.running = True\n",
    "        self.lifes = lifes\n",
    "        self.word = random.choice(self.content)\n",
    "        return len(self.word)\n",
    "    \n",
    "    # ----------------------------- #\n",
    "\n",
    "    def guess_letter(self, letter):\n",
    "        if self.lifes > 0:\n",
    "            if letter in self.word:\n",
    "                return [idx for idx in range(len(self.word)) if self.word[idx]==letter]\n",
    "            else:\n",
    "                self.lifes -= 1\n",
    "                if self.lifes == 0:\n",
    "                    self.running = False\n",
    "                    return False\n",
    "                else:\n",
    "                    return []\n",
    "    \n",
    "    # ----------------------------- #\n",
    "\n",
    "    def guess_word(self, word):\n",
    "        if self.lifes > 0:\n",
    "            if self.word == word:\n",
    "                self.running = False\n",
    "                return True\n",
    "            else:\n",
    "                self.lifes = 0\n",
    "                self.running = False\n",
    "                return False\n",
    "            \n",
    "    # ----------------------------- #\n",
    "\n",
    "    def check_word(self, word):\n",
    "        if self.word == word:\n",
    "            return True\n",
    "        return False"
   ]
  },
  {
   "attachments": {},
   "cell_type": "markdown",
   "metadata": {},
   "source": [
    "Para demonstrar o seu funcionamento antes de entrar nos algoritimos:"
   ]
  },
  {
   "cell_type": "code",
   "execution_count": 71,
   "metadata": {},
   "outputs": [
    {
     "name": "stdout",
     "output_type": "stream",
     "text": [
      "Letters:10\n",
      "[]\n",
      "[]\n",
      "[3, 6, 8]\n",
      "[]\n",
      "[]\n",
      "False\n"
     ]
    },
    {
     "data": {
      "text/plain": [
       "('Lifes: ', 0)"
      ]
     },
     "execution_count": 71,
     "metadata": {},
     "output_type": "execute_result"
    }
   ],
   "source": [
    "# Showcase\n",
    "\n",
    "game = Hangman()\n",
    "letters = game.new_game()\n",
    "print(\"Letters:\" + str(letters))\n",
    "\n",
    "print(game.guess_letter('2'))\n",
    "print(game.guess_letter('q'))\n",
    "print(game.guess_letter('a'))\n",
    "print(game.guess_letter('y'))\n",
    "print(game.guess_letter('z'))\n",
    "print(game.guess_letter('x'))\n",
    "\n",
    "'Lifes: ', game.lifes\n"
   ]
  },
  {
   "attachments": {},
   "cell_type": "markdown",
   "metadata": {},
   "source": [
    "---------\n",
    "## Algoritimo 1: Letra mais provável\n",
    "\n",
    "O primeiro algoritimo feito simplismente ve qual a probabilidade de cada letra aparecer, considerando todas as palavras ao mesmo tempo e ignorando as suas posições.\n",
    "Ele não leva em consideração o estado atual do tabuleiro, e sempre chuta letras na mesma ordem. "
   ]
  },
  {
   "cell_type": "code",
   "execution_count": 75,
   "metadata": {},
   "outputs": [],
   "source": [
    "# First algorithm: by absolute letter probability, wo word guesses\n",
    "\n",
    "alphabet = 'abcdefghijklmnopqrstuvwxyz'\n",
    "probabilities = {letter:0 for letter in alphabet}\n",
    "\n",
    "# adds 1 for every time that letter appears\n",
    "for word in content:\n",
    "    for letter in word:\n",
    "        probabilities[letter.lower()] += 1\n",
    "\n",
    "# Orders the probabilities\n",
    "probabilities = dict(sorted(probabilities.items(), key=lambda item: item[1], reverse=True))\n"
   ]
  },
  {
   "attachments": {},
   "cell_type": "markdown",
   "metadata": {},
   "source": [
    "Para testar sua eficácia, simulamos 1000 jogos com ele e vemos a chance de ele ganhar um jogo:"
   ]
  },
  {
   "cell_type": "code",
   "execution_count": 76,
   "metadata": {},
   "outputs": [
    {
     "name": "stdout",
     "output_type": "stream",
     "text": [
      "This algorithm wins 17.5%. of the time\n"
     ]
    }
   ],
   "source": [
    "# 1000 runs, checks the win probability\n",
    "\n",
    "wins = 0\n",
    "keysProbs = list(probabilities.keys())\n",
    "for i in range(1000):\n",
    "\n",
    "    # starts game\n",
    "    game = Hangman()\n",
    "    letters = game.new_game()  \n",
    "\n",
    "    # makes a list to save the guesses\n",
    "    guessList = []\n",
    "    for i in range(letters):\n",
    "        guessList.append('_')\n",
    "\n",
    "    curLetter = 0 \n",
    "    while game.running:\n",
    "\n",
    "        # guesses a letter and saves it \n",
    "        letterSpots = game.guess_letter(keysProbs[curLetter])\n",
    "        if type(letterSpots) != bool:\n",
    "            for numbs in letterSpots:\n",
    "                guessList[numbs] = keysProbs[curLetter]\n",
    "            curLetter+=1\n",
    "\n",
    "        # checks if the word is already guessed\n",
    "        guessWord = ''.join(guessList)\n",
    "        gotWord = game.check_word(guessWord)\n",
    "        if gotWord:\n",
    "            break\n",
    "\n",
    "    if gotWord:\n",
    "        wins+=1\n",
    "    # print(guessWord) # uncomment to see what the games ended on!\n",
    "\n",
    "print('This algorithm wins '+ str(wins/10) +'%. of the time')"
   ]
  },
  {
   "attachments": {},
   "cell_type": "markdown",
   "metadata": {},
   "source": [
    "Como podemos ver, se desconsiderar-mos o estado atual do jogo e sempre chutar em uma mesma ordem, não conseguimos ir muito longe. Ele acaba sendo melhor do que um chute completamente aleatorio, mas não por uma margem muito grande."
   ]
  },
  {
   "attachments": {},
   "cell_type": "markdown",
   "metadata": {},
   "source": [
    "---------\n",
    "## Algoritimo 2: \n"
   ]
  }
 ],
 "metadata": {
  "kernelspec": {
   "display_name": "Python 3",
   "language": "python",
   "name": "python3"
  },
  "language_info": {
   "codemirror_mode": {
    "name": "ipython",
    "version": 3
   },
   "file_extension": ".py",
   "mimetype": "text/x-python",
   "name": "python",
   "nbconvert_exporter": "python",
   "pygments_lexer": "ipython3",
   "version": "3.10.4"
  },
  "orig_nbformat": 4
 },
 "nbformat": 4,
 "nbformat_minor": 2
}
