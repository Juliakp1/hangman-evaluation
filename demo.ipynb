{
 "cells": [
  {
   "cell_type": "code",
   "execution_count": 2,
   "metadata": {},
   "outputs": [],
   "source": [
    "import random"
   ]
  },
  {
   "cell_type": "code",
   "execution_count": 11,
   "metadata": {},
   "outputs": [],
   "source": [
    "# Class imported from notebook 7 \n",
    "\n",
    "class Hangman:\n",
    "    def __init__(self):\n",
    "        import requests\n",
    "        url = 'https://www.ime.usp.br/~pf/dicios/br-sem-acentos.txt'\n",
    "        r = requests.get(url, allow_redirects=True)\n",
    "        if r.status_code==200:\n",
    "            self.content = str(r.content.decode()).split('\\n')\n",
    "        else:\n",
    "            print(\"Erro: \", r.status_code)\n",
    "    \n",
    "    def new_game(self, lifes=5):\n",
    "        self.lifes = lifes\n",
    "        self.word = random.choice(self.content)\n",
    "        return len(self.word)\n",
    "\n",
    "    def guess_letter(self, letter):\n",
    "        if self.lifes > 0:\n",
    "            if letter in self.word:\n",
    "                return [idx for idx in range(len(self.word)) if self.word[idx]==letter]\n",
    "            else:\n",
    "                self.lifes -= 1\n",
    "                if self.lifes == 0:\n",
    "                    print(\"You lost! Word: \" + str(self.word))\n",
    "                    return False\n",
    "                else:\n",
    "                    return []\n",
    "        \n",
    "    def guess_word(self, word):\n",
    "        if self.lifes > 0:\n",
    "            if self.word == word:\n",
    "                print (\"Win!\")\n",
    "                return True\n",
    "            else:\n",
    "                self.lifes = 0\n",
    "                print(\"You lost! Word: \" + str(self.word) )\n",
    "                return False"
   ]
  },
  {
   "cell_type": "code",
   "execution_count": 18,
   "metadata": {},
   "outputs": [
    {
     "name": "stdout",
     "output_type": "stream",
     "text": [
      "Letters:13\n",
      "You lost! Word: reembarcareis\n"
     ]
    },
    {
     "data": {
      "text/plain": [
       "('Lifes: ', 0)"
      ]
     },
     "execution_count": 18,
     "metadata": {},
     "output_type": "execute_result"
    }
   ],
   "source": [
    "# Showcase\n",
    "\n",
    "game = Hangman()\n",
    "letters = game.new_game()\n",
    "print(\"Letters:\" + str(letters))\n",
    "\n",
    "game.guess_letter('2')\n",
    "game.guess_letter('q')\n",
    "game.guess_letter('a')\n",
    "game.guess_letter('y')\n",
    "game.guess_letter('z')\n",
    "game.guess_letter('x')\n",
    "\n",
    "'Lifes: ', game.lifes\n"
   ]
  },
  {
   "cell_type": "code",
   "execution_count": null,
   "metadata": {},
   "outputs": [],
   "source": []
  }
 ],
 "metadata": {
  "kernelspec": {
   "display_name": "Python 3",
   "language": "python",
   "name": "python3"
  },
  "language_info": {
   "codemirror_mode": {
    "name": "ipython",
    "version": 3
   },
   "file_extension": ".py",
   "mimetype": "text/x-python",
   "name": "python",
   "nbconvert_exporter": "python",
   "pygments_lexer": "ipython3",
   "version": "3.10.4"
  },
  "orig_nbformat": 4
 },
 "nbformat": 4,
 "nbformat_minor": 2
}
