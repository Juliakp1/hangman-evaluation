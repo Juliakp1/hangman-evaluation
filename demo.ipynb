{
 "cells": [
  {
   "cell_type": "code",
   "execution_count": 148,
   "metadata": {},
   "outputs": [],
   "source": [
    "import random, requests, copy\n",
    "from re import match # allows regex in list\n"
   ]
  },
  {
   "attachments": {},
   "cell_type": "markdown",
   "metadata": {},
   "source": [
    "# Avaliador de jogadores de Forca\n",
    "\n",
    "Começamos esse projeto com uma clase que simula um jogo de forca (com a funcao de advinhar a letra e/ou a palavra):\n"
   ]
  },
  {
   "cell_type": "code",
   "execution_count": 77,
   "metadata": {},
   "outputs": [
    {
     "data": {
      "text/plain": [
       "245367"
      ]
     },
     "execution_count": 77,
     "metadata": {},
     "output_type": "execute_result"
    }
   ],
   "source": [
    "# -------------- #\n",
    "# Word pool\n",
    "url = 'https://www.ime.usp.br/~pf/dicios/br-sem-acentos.txt'\n",
    "r = requests.get(url, allow_redirects=True)\n",
    "content = str(r.content.decode()).split('\\n')\n",
    "# -------------- #\n",
    "len(content)"
   ]
  },
  {
   "cell_type": "code",
   "execution_count": 70,
   "metadata": {},
   "outputs": [],
   "source": [
    "# Class imported from notebook 7 \n",
    "\n",
    "class Hangman:\n",
    "    def __init__(self):\n",
    "        \n",
    "        if r.status_code==200:\n",
    "            self.content = content\n",
    "        else:\n",
    "            print(\"Erro: \", r.status_code)\n",
    "    \n",
    "    # ----------------------------- #\n",
    "\n",
    "    def new_game(self, lifes=5):\n",
    "        self.running = True\n",
    "        self.lifes = lifes\n",
    "        self.word = random.choice(self.content)\n",
    "        return len(self.word)\n",
    "    \n",
    "    # ----------------------------- #\n",
    "\n",
    "    def guess_letter(self, letter):\n",
    "        if self.lifes > 0:\n",
    "            if letter in self.word:\n",
    "                return [idx for idx in range(len(self.word)) if self.word[idx]==letter]\n",
    "            else:\n",
    "                self.lifes -= 1\n",
    "                if self.lifes == 0:\n",
    "                    self.running = False\n",
    "                    return False\n",
    "                else:\n",
    "                    return []\n",
    "    \n",
    "    # ----------------------------- #\n",
    "\n",
    "    def guess_word(self, word):\n",
    "        if self.lifes > 0:\n",
    "            if self.word == word:\n",
    "                self.running = False\n",
    "                return True\n",
    "            else:\n",
    "                self.lifes = 0\n",
    "                self.running = False\n",
    "                return False\n",
    "            \n",
    "    # ----------------------------- #\n",
    "\n",
    "    def check_word(self, word):\n",
    "        if self.word == word:\n",
    "            return True\n",
    "        return False"
   ]
  },
  {
   "attachments": {},
   "cell_type": "markdown",
   "metadata": {},
   "source": [
    "Para demonstrar o seu funcionamento antes de entrar nos algoritimos:"
   ]
  },
  {
   "cell_type": "code",
   "execution_count": 71,
   "metadata": {},
   "outputs": [
    {
     "name": "stdout",
     "output_type": "stream",
     "text": [
      "Letters:10\n",
      "[]\n",
      "[]\n",
      "[3, 6, 8]\n",
      "[]\n",
      "[]\n",
      "False\n"
     ]
    },
    {
     "data": {
      "text/plain": [
       "('Lifes: ', 0)"
      ]
     },
     "execution_count": 71,
     "metadata": {},
     "output_type": "execute_result"
    }
   ],
   "source": [
    "# Showcase\n",
    "\n",
    "game = Hangman()\n",
    "letters = game.new_game()\n",
    "print(\"Letters:\" + str(letters))\n",
    "\n",
    "print(game.guess_letter('2'))\n",
    "print(game.guess_letter('q'))\n",
    "print(game.guess_letter('a'))\n",
    "print(game.guess_letter('y'))\n",
    "print(game.guess_letter('z'))\n",
    "print(game.guess_letter('x'))\n",
    "\n",
    "'Lifes: ', game.lifes\n"
   ]
  },
  {
   "attachments": {},
   "cell_type": "markdown",
   "metadata": {},
   "source": [
    "---------\n",
    "## Algoritimo 1: Letra mais provável\n",
    "\n",
    "O primeiro algoritimo feito simplismente ve qual a probabilidade de cada letra aparecer, considerando todas as palavras ao mesmo tempo e ignorando as suas posições.\n",
    "Ele não leva em consideração o estado atual do tabuleiro, e sempre chuta letras na mesma ordem. "
   ]
  },
  {
   "cell_type": "code",
   "execution_count": 78,
   "metadata": {},
   "outputs": [],
   "source": [
    "# First algorithm: by absolute letter probability, wo word guesses\n",
    "\n",
    "alphabet = 'abcdefghijklmnopqrstuvwxyz'\n",
    "probabilities = {letter:0 for letter in alphabet}\n",
    "\n",
    "# adds 1 for every time that letter appears\n",
    "for word in content:\n",
    "    for letter in word:\n",
    "        probabilities[letter.lower()] += 1\n",
    "\n",
    "# Orders the probabilities\n",
    "probabilities = dict(sorted(probabilities.items(), key=lambda item: item[1], reverse=True))\n"
   ]
  },
  {
   "attachments": {},
   "cell_type": "markdown",
   "metadata": {},
   "source": [
    "Para testar sua eficácia, simulamos 1000 jogos com ele e vemos a chance de ele ganhar um jogo:"
   ]
  },
  {
   "cell_type": "code",
   "execution_count": 147,
   "metadata": {},
   "outputs": [
    {
     "name": "stdout",
     "output_type": "stream",
     "text": [
      "This algorithm wins 16.8%. of the time\n"
     ]
    }
   ],
   "source": [
    "# 1000 runs, checks the win probability\n",
    "\n",
    "wins = 0\n",
    "keysProbs = list(probabilities.keys())\n",
    "for i in range(1000):\n",
    "\n",
    "    # starts game\n",
    "    game = Hangman()\n",
    "    letters = game.new_game()  \n",
    "\n",
    "    # makes a list to save the guesses\n",
    "    guessList = []\n",
    "    for i in range(letters):\n",
    "        guessList.append('.')\n",
    "\n",
    "    curLetter = 0 \n",
    "    while game.running:\n",
    "\n",
    "        # guesses a letter and saves it \n",
    "        letterSpots = game.guess_letter(keysProbs[curLetter])\n",
    "        if type(letterSpots) != bool:\n",
    "            for numbs in letterSpots:\n",
    "                guessList[numbs] = keysProbs[curLetter]\n",
    "            curLetter+=1\n",
    "\n",
    "        # checks if the word is already guessed\n",
    "        guessWord = ''.join(guessList)\n",
    "        gotWord = game.check_word(guessWord)\n",
    "        if gotWord:\n",
    "            break\n",
    "\n",
    "    if gotWord:\n",
    "        wins+=1\n",
    "    # print(guessWord) # uncomment to see what the games ended on!\n",
    "\n",
    "print('This algorithm wins '+ str(wins/10) +'%. of the time')"
   ]
  },
  {
   "attachments": {},
   "cell_type": "markdown",
   "metadata": {},
   "source": [
    "Como podemos ver, se desconsiderar-mos o estado atual do jogo e sempre chutar em uma mesma ordem, não conseguimos ir muito longe. Ele acaba sendo melhor do que um chute completamente aleatorio, mas não por uma margem muito grande."
   ]
  },
  {
   "attachments": {},
   "cell_type": "markdown",
   "metadata": {},
   "source": [
    "---------\n",
    "## Algoritimo 2: Probabilidade de letra por rodada\n",
    "A cada rodada, esse algoritimo verifica todas as palavras possíveis partindo do estado atual, utilizando regex. Ele utiliza a palavra atual (chamada guessList), com letras nos locais corretos e '.' em letras que ele ainda não sabe, para criar um filtro na lista de todas as palavras possíveis. Ele então filtra novamente essa lista para remover todos as palavras que não tem as letras que o algoritimo sabe que não esta na palavra.\n",
    "Ele repete esse processo para todos os seus chutes"
   ]
  },
  {
   "cell_type": "code",
   "execution_count": 152,
   "metadata": {},
   "outputs": [],
   "source": [
    "# generates a new guess based on the board's state\n",
    "def get_new_guess(guessList, currentAlphabet):\n",
    "\n",
    "    probabilities = {letter:0 for letter in currentAlphabet}\n",
    "\n",
    "    # gets all the words that fit this situation\n",
    "    filterRegex = ''.join(guessList)\n",
    "    possibleWords = list(filter(lambda v: match(filterRegex, v), content))\n",
    "\n",
    "    # gets words that fit into the current alphabet, and lenght\n",
    "    filterRegex = '^['+currentAlphabet+']{'+str(len(guessList))+'}$'\n",
    "    avaliableWords = list(filter(lambda v: match(filterRegex, v), possibleWords))\n",
    "\n",
    "    # adds 1 for every time that letter appears\n",
    "    for word in avaliableWords:\n",
    "        for letter in word:\n",
    "            if (letter in currentAlphabet) and (letter not in guessList):\n",
    "                probabilities[letter.lower()] += 1\n",
    "\n",
    "    # gets the key of the hight value in dict\n",
    "    nextGuess = max(probabilities, key=probabilities.get)\n",
    "    return nextGuess"
   ]
  },
  {
   "attachments": {},
   "cell_type": "markdown",
   "metadata": {},
   "source": [
    "Para testar sua eficácia, simulamos 100 jogos com ele e vemos a chance de ele ganhar um jogo:"
   ]
  },
  {
   "cell_type": "code",
   "execution_count": 153,
   "metadata": {},
   "outputs": [
    {
     "name": "stdout",
     "output_type": "stream",
     "text": [
      "This algorithm wins 99%. of the time\n",
      "Trouble words: Adhemar\n"
     ]
    }
   ],
   "source": [
    "# 1000 runs, checks the win probability\n",
    "\n",
    "wins = 0\n",
    "troubleWords = []\n",
    "for i in range(100):\n",
    "\n",
    "    # starts game\n",
    "    game = Hangman()\n",
    "    letters = game.new_game()  \n",
    "\n",
    "    # makes a list to save the guesses\n",
    "    guessList = []\n",
    "    for i in range(letters):\n",
    "        guessList.append('.')\n",
    "\n",
    "    nextGuess = 'a'\n",
    "    currentAlphabet = 'abcdefghijklmnopqrstuvwxyz'\n",
    "    while game.running:\n",
    "\n",
    "        # guesses a letter and saves it \n",
    "        letterSpots = game.guess_letter(nextGuess)\n",
    "        \n",
    "        # saves the guessed (and spots) letter to the list\n",
    "        if type(letterSpots) != bool:\n",
    "            for numbs in letterSpots:\n",
    "                guessList[numbs] = nextGuess\n",
    "\n",
    "        # removes guessed letter from alphabet if its wrong\n",
    "        if letterSpots == []:\n",
    "            currentAlphabet = currentAlphabet.replace(nextGuess,'')\n",
    "\n",
    "        # checks if the word is already guessed\n",
    "        guessWord = ''.join(guessList)\n",
    "        gotWord = game.check_word(guessWord)\n",
    "        if gotWord:\n",
    "            break\n",
    "\n",
    "        # gets the next guess\n",
    "        nextGuess = get_new_guess(guessList, currentAlphabet)\n",
    "\n",
    "    if gotWord:\n",
    "        wins+=1\n",
    "    else:\n",
    "        troubleWords.append(game.word)\n",
    "    # print(guessWord) # uncomment to see what the games ended on!\n",
    "\n",
    "print('This algorithm wins '+ str(wins) +'%. of the time')\n",
    "print('Trouble words: ' + ', '.join(troubleWords))"
   ]
  },
  {
   "attachments": {},
   "cell_type": "markdown",
   "metadata": {},
   "source": [
    "Esse algorítimo, principalmente quando comparado com o anterior, tem uma performance muito boa, com probabilidade de vitória perto de 95%. Isso, infelizmente, vem ao custo do tempo de processamento, que apesar de não ser absurdamente alto, demora multiplas vezes mais do que os outros algoritimos, com mais ou menos 2 minutos para 100 rodadas."
   ]
  },
  {
   "attachments": {},
   "cell_type": "markdown",
   "metadata": {},
   "source": [
    "--------------------\n",
    "\n",
    "## Resultado dos algoritmos:\n",
    "- Letra mais provável: 10% a 20%\n",
    "- Probabilidade de letra por rodada: 95% a 99%"
   ]
  }
 ],
 "metadata": {
  "kernelspec": {
   "display_name": "Python 3",
   "language": "python",
   "name": "python3"
  },
  "language_info": {
   "codemirror_mode": {
    "name": "ipython",
    "version": 3
   },
   "file_extension": ".py",
   "mimetype": "text/x-python",
   "name": "python",
   "nbconvert_exporter": "python",
   "pygments_lexer": "ipython3",
   "version": "3.10.4"
  },
  "orig_nbformat": 4
 },
 "nbformat": 4,
 "nbformat_minor": 2
}
